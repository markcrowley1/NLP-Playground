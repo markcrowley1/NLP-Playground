{
 "cells": [
  {
   "cell_type": "markdown",
   "metadata": {},
   "source": [
    "# Computing Word Embeddings\n",
    "\n",
    "Creating continuous bag of word embeddings using tiny shakespeare dataset."
   ]
  },
  {
   "cell_type": "code",
   "execution_count": 1,
   "metadata": {},
   "outputs": [
    {
     "data": {
      "text/plain": [
       "<torch._C.Generator at 0x26f5fb92490>"
      ]
     },
     "execution_count": 1,
     "metadata": {},
     "output_type": "execute_result"
    }
   ],
   "source": [
    "import torch\n",
    "import torch.nn as nn\n",
    "import torch.nn.functional as F\n",
    "import torch.optim as optim\n",
    "\n",
    "import re\n",
    "import pandas as pd\n",
    "\n",
    "torch.manual_seed(1)"
   ]
  },
  {
   "cell_type": "code",
   "execution_count": 2,
   "metadata": {},
   "outputs": [],
   "source": [
    "# Load in tiny shakespeare dataset\n",
    "# Read in train, val and test datasets\n",
    "with open(\"tiny_shakespeare/train.csv\", 'r') as f:\n",
    "    csvreader = pd.read_csv(f)\n",
    "    train_data = csvreader[\"text\"].values[0]\n",
    "\n",
    "with open(\"tiny_shakespeare/validation.csv\", 'r') as f:\n",
    "    csvreader = pd.read_csv(f)\n",
    "    val_data = csvreader[\"text\"].values[0]\n",
    "\n",
    "with open(\"tiny_shakespeare/test.csv\", 'r') as f:\n",
    "    csvreader = pd.read_csv(f)\n",
    "    test_data = csvreader[\"text\"].values[0]\n",
    "\n",
    "data = train_data.lower()"
   ]
  },
  {
   "cell_type": "code",
   "execution_count": 16,
   "metadata": {},
   "outputs": [
    {
     "name": "stdout",
     "output_type": "stream",
     "text": [
      "['first', 'citizen', 'before', 'we', 'proceed', 'any', 'further', 'hear', 'me', 'speak', 'all', 'speak', 'speak', 'first', 'citizen', 'you', 'are', 'all', 'resolved', 'rather']\n"
     ]
    }
   ],
   "source": [
    "# Create set of vocab\n",
    "pattern = r'\\w+'\n",
    "text = re.findall(pattern, data)\n",
    "vocab = set(text)\n",
    "vocab_size = len(vocab)\n",
    "print(text[:20])"
   ]
  },
  {
   "cell_type": "code",
   "execution_count": 17,
   "metadata": {},
   "outputs": [
    {
     "name": "stdout",
     "output_type": "stream",
     "text": [
      "[(['citizen', 'first', 'we', 'proceed'], 'before'), (['before', 'citizen', 'proceed', 'any'], 'we'), (['we', 'before', 'any', 'further'], 'proceed')]\n"
     ]
    }
   ],
   "source": [
    "# Manipulate data into context windows\n",
    "CONTEXT_SIZE = 2 # 2 tokens either side of target token\n",
    "word_to_idx = {word: i for i, word in enumerate(vocab)}\n",
    "context_data = []\n",
    "for i in range(CONTEXT_SIZE, len(text) - CONTEXT_SIZE):\n",
    "    context = (\n",
    "        [text[i-j-1] for j in range(CONTEXT_SIZE)]\n",
    "        + [text[i+j+1] for j in range(CONTEXT_SIZE)]\n",
    "    )\n",
    "    target = text[i]\n",
    "    context_data.append((context, target))\n",
    "print(context_data[:3])    "
   ]
  },
  {
   "cell_type": "code",
   "execution_count": null,
   "metadata": {},
   "outputs": [],
   "source": [
    "class SkipGramModel(nn.Module):\n",
    "    def __init__(self, vocab_size, embedding_dim):\n",
    "        super(SkipGramModel, self).__init__()\n",
    "        self.embedding = nn.Embedding(vocab_size, embedding_dim)\n",
    "\n",
    "    def forward(self, inputs):\n",
    "        embedded_context = self.embedding(context)\n",
    "        return embedded_context\n",
    "\n",
    "model = SkipGramModel(vocab_size, embedding_dim=20)\n",
    "loss_function = nn.CrossEntropyLoss()\n",
    "opimizer = optim.SGD(model.parameters(),lr=0.001)\n",
    "\n",
    "for epoch in range(10):\n",
    "    "
   ]
  }
 ],
 "metadata": {
  "kernelspec": {
   "display_name": "llm",
   "language": "python",
   "name": "python3"
  },
  "language_info": {
   "codemirror_mode": {
    "name": "ipython",
    "version": 3
   },
   "file_extension": ".py",
   "mimetype": "text/x-python",
   "name": "python",
   "nbconvert_exporter": "python",
   "pygments_lexer": "ipython3",
   "version": "3.11.5"
  }
 },
 "nbformat": 4,
 "nbformat_minor": 2
}
