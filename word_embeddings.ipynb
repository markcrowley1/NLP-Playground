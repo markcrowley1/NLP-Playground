{
 "cells": [
  {
   "cell_type": "markdown",
   "metadata": {},
   "source": [
    "# Computing Word Embeddings\n",
    "\n",
    "Creating continuous bag of word embeddings using tiny shakespeare dataset."
   ]
  },
  {
   "cell_type": "code",
   "execution_count": 64,
   "metadata": {},
   "outputs": [
    {
     "data": {
      "text/plain": [
       "<torch._C.Generator at 0x1f57fd87ef0>"
      ]
     },
     "execution_count": 64,
     "metadata": {},
     "output_type": "execute_result"
    }
   ],
   "source": [
    "import torch\n",
    "import torch.nn as nn\n",
    "import torch.nn.functional as F\n",
    "import torch.optim as optim\n",
    "\n",
    "import re\n",
    "import random\n",
    "import pandas as pd\n",
    "\n",
    "torch.manual_seed(1)"
   ]
  },
  {
   "cell_type": "code",
   "execution_count": 65,
   "metadata": {},
   "outputs": [],
   "source": [
    "# Load in tiny shakespeare dataset\n",
    "# Read in train, val and test datasets\n",
    "with open(\"tiny_shakespeare/train.csv\", 'r') as f:\n",
    "    csvreader = pd.read_csv(f)\n",
    "    train_data = csvreader[\"text\"].values[0]\n",
    "\n",
    "with open(\"tiny_shakespeare/validation.csv\", 'r') as f:\n",
    "    csvreader = pd.read_csv(f)\n",
    "    val_data = csvreader[\"text\"].values[0]\n",
    "\n",
    "with open(\"tiny_shakespeare/test.csv\", 'r') as f:\n",
    "    csvreader = pd.read_csv(f)\n",
    "    test_data = csvreader[\"text\"].values[0]\n",
    "\n",
    "raw_text = train_data.lower()"
   ]
  },
  {
   "cell_type": "code",
   "execution_count": 66,
   "metadata": {},
   "outputs": [
    {
     "name": "stdout",
     "output_type": "stream",
     "text": [
      "['first', 'citizen', 'before', 'we', 'proceed', 'any', 'further', 'hear', 'me', 'speak', 'all', 'speak', 'speak', 'first', 'citizen', 'you', 'are', 'all', 'resolved', 'rather']\n"
     ]
    }
   ],
   "source": [
    "# Create set of vocab\n",
    "pattern = r'\\w+'\n",
    "words = re.findall(pattern, raw_text)\n",
    "vocab = set(words)\n",
    "vocab_size = len(vocab)\n",
    "print(words[:20])"
   ]
  },
  {
   "cell_type": "code",
   "execution_count": 67,
   "metadata": {},
   "outputs": [
    {
     "name": "stdout",
     "output_type": "stream",
     "text": [
      "[(['citizen', 'first', 'we', 'proceed'], 'before'), (['before', 'citizen', 'proceed', 'any'], 'we'), (['we', 'before', 'any', 'further'], 'proceed')]\n",
      "[(tensor([10804, 10040,   555,  6813]), tensor(8411)), (tensor([ 8411, 10804,  6813,  5335]), tensor(555)), (tensor([ 555, 8411, 5335, 7473]), tensor(6813))]\n"
     ]
    }
   ],
   "source": [
    "# Manipulate data into context windows\n",
    "CONTEXT_SIZE = 2 # 2 tokens either side of target token\n",
    "word_to_idx = {word: i for i, word in enumerate(vocab)}\n",
    "idx_to_word = {i: word for i, word in enumerate(vocab)}\n",
    "text_data = []\n",
    "tensor_data = []\n",
    "for i in range(CONTEXT_SIZE, len(words) - CONTEXT_SIZE):\n",
    "    context = (\n",
    "        [words[i-j-1] for j in range(CONTEXT_SIZE)]\n",
    "        + [words[i+j+1] for j in range(CONTEXT_SIZE)]\n",
    "    )\n",
    "    target = words[i]\n",
    "    # Create corresponding context and targets with strings and PyTorch tensors\n",
    "    text_data.append((context, target))\n",
    "    context_tensor = torch.tensor([word_to_idx[w] for w in context], dtype=torch.long)\n",
    "    target_tensor = torch.tensor(word_to_idx[target], dtype=torch.long)\n",
    "    tensor_data.append((context_tensor, target_tensor))\n",
    "print(text_data[:3])\n",
    "print(tensor_data[:3])    "
   ]
  },
  {
   "cell_type": "code",
   "execution_count": 68,
   "metadata": {},
   "outputs": [
    {
     "name": "stdout",
     "output_type": "stream",
     "text": [
      "Epoch 1, Loss: 27337.00258541107\n",
      "Epoch 2, Loss: 27243.76197910309\n",
      "Epoch 3, Loss: 27150.61828804016\n",
      "Epoch 4, Loss: 27057.45508289337\n",
      "Epoch 5, Loss: 26964.321791648865\n",
      "Epoch 6, Loss: 26871.26375102997\n",
      "Epoch 7, Loss: 26778.26854610443\n",
      "Epoch 8, Loss: 26685.176803588867\n",
      "Epoch 9, Loss: 26592.124106407166\n",
      "Epoch 10, Loss: 26499.101897239685\n"
     ]
    }
   ],
   "source": [
    "# Define a basic Continuous Bag of Words Model\n",
    "class CBOWModel(nn.Module):\n",
    "    def __init__(self, vocab_size, embedding_dim):\n",
    "        super(CBOWModel, self).__init__()\n",
    "        self.embedding = nn.Embedding(vocab_size, embedding_dim)\n",
    "        self.fc = nn.Linear(embedding_dim, vocab_size)\n",
    "\n",
    "    def forward(self, context):\n",
    "        embedded_context = self.embedding(context).mean(dim=1)\n",
    "        output = self.fc(embedded_context)\n",
    "        return output\n",
    "    \n",
    "# Define batch size etc.\n",
    "batch_size = 64\n",
    "num_batches = len(tensor_data) // batch_size\n",
    "\n",
    "# Define model and training parameters\n",
    "model = CBOWModel(vocab_size, embedding_dim=100)\n",
    "loss_function = nn.CrossEntropyLoss()\n",
    "optimizer = optim.SGD(model.parameters(),lr=0.001)\n",
    "\n",
    "for epoch in range(10):\n",
    "    random.shuffle(tensor_data)\n",
    "    running_loss = 0\n",
    "    for i in range(num_batches):\n",
    "        batch_data = tensor_data[i * batch_size : (i + 1) * batch_size]\n",
    "        context, target = zip(*batch_data)\n",
    "        context = torch.stack(context)\n",
    "        target = torch.stack(target)\n",
    "\n",
    "        optimizer.zero_grad()\n",
    "        output = model(context)\n",
    "        loss = loss_function(output, target)\n",
    "        loss.backward()\n",
    "        optimizer.step()\n",
    "        \n",
    "        running_loss += loss.item()\n",
    "    print(f\"Epoch {epoch+1}, Loss: {running_loss}\")\n",
    "    "
   ]
  },
  {
   "cell_type": "code",
   "execution_count": 103,
   "metadata": {},
   "outputs": [
    {
     "name": "stdout",
     "output_type": "stream",
     "text": [
      "3440 9556\n",
      "and senator\n",
      "dinner first xxx you are\n"
     ]
    }
   ],
   "source": [
    "# Taking a look at some predictions\n",
    "context, target = tensor_data[7890]\n",
    "output = model(context.unsqueeze(0))\n",
    "prediction = output.argmax().item()\n",
    "print(prediction, target.item())\n",
    "print(idx_to_word[prediction], idx_to_word[target.item()])\n",
    "\n",
    "context_words = context.tolist()\n",
    "context_words = [idx_to_word[w] for w in context_words]\n",
    "print(context_words[1] + ' ' + context_words[0] + ' '  + \"xxx\" + ' '  + context_words[2] + ' ' + context_words[3])"
   ]
  },
  {
   "cell_type": "code",
   "execution_count": 104,
   "metadata": {},
   "outputs": [
    {
     "data": {
      "text/plain": [
       "'people leaving accompt basin'"
      ]
     },
     "execution_count": 104,
     "metadata": {},
     "output_type": "execute_result"
    }
   ],
   "source": [
    "test_word = \"people\"\n",
    "test_word_embedding = model.embedding.weight[word_to_idx[test_word]]\n",
    "similarities = F.cosine_similarity(test_word_embedding.unsqueeze(0), model.embedding.weight, dim=1)\n",
    "\n",
    "top_similarities, top_indices = torch.topk(similarities, 4)\n",
    "similar_indices = top_indices.tolist()\n",
    "similar_words = [idx_to_word[w] for w in similar_indices]\n",
    "' '.join(similar_words)"
   ]
  }
 ],
 "metadata": {
  "kernelspec": {
   "display_name": "llm",
   "language": "python",
   "name": "python3"
  },
  "language_info": {
   "codemirror_mode": {
    "name": "ipython",
    "version": 3
   },
   "file_extension": ".py",
   "mimetype": "text/x-python",
   "name": "python",
   "nbconvert_exporter": "python",
   "pygments_lexer": "ipython3",
   "version": "3.11.5"
  }
 },
 "nbformat": 4,
 "nbformat_minor": 2
}
